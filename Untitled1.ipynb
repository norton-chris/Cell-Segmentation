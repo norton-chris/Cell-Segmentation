{
 "cells": [
  {
   "cell_type": "code",
   "execution_count": 8,
   "id": "7b40cf1e-b364-4964-aa47-25ff6a9a05b7",
   "metadata": {},
   "outputs": [
    {
     "name": "stdout",
     "output_type": "stream",
     "text": [
      "error on: D:/Han Project/TrainingDataset/ImagesJPG/Thumbs.jpg\n",
      "total images: 1281\n",
      "total errors: 1\n"
     ]
    }
   ],
   "source": [
    "import cv2, os\n",
    "base_path = 'D:/Han Project/TrainingDataset/Images/'\n",
    "new_path = 'D:/Han Project/TrainingDataset/ImagesJPG/'\n",
    "error = 0\n",
    "total = 0\n",
    "error_list = []\n",
    "for infile in os.listdir(base_path):\n",
    "    #print (\"file : \" + infile)\n",
    "    read = cv2.imread(base_path + infile)\n",
    "    outfile = infile.split('.')[0] + '.jpg'\n",
    "    try:\n",
    "        cv2.imwrite(new_path+outfile,read,[int(cv2.IMWRITE_JPEG_QUALITY), 200])\n",
    "    except:\n",
    "        error += 1\n",
    "        error_list.append(error)\n",
    "        print(\"error on:\", new_path+outfile)\n",
    "        pass\n",
    "    \n",
    "    total += 1\n",
    "\n",
    "print(\"total images:\", total)\n",
    "print(\"total errors:\", error)\n"
   ]
  },
  {
   "cell_type": "code",
   "execution_count": 2,
   "id": "7e57191f-ebe6-4e06-82ed-f4408b056b9c",
   "metadata": {},
   "outputs": [
    {
     "name": "stdout",
     "output_type": "stream",
     "text": [
      "error on: D:/Han Project/TrainingDataset/LabelsJPG/Thumbs.jpg\n",
      "total errors: 1\n"
     ]
    }
   ],
   "source": [
    "import cv2, os\n",
    "base_path = 'D:/Han Project/TrainingDataset/Labels/'\n",
    "new_path = 'D:/Han Project/TrainingDataset/LabelsJPG/'\n",
    "error = 0\n",
    "tota\n",
    "for infile in os.listdir(base_path):\n",
    "    if \n",
    "    #print (\"file : \" + infile)\n",
    "    read = cv2.imread(base_path + infile)\n",
    "    outfile = infile.split('.')[0] + '.jpg'\n",
    "    try:\n",
    "        cv2.imwrite(new_path+outfile,read,[int(cv2.IMWRITE_JPEG_QUALITY), 200])\n",
    "    except:\n",
    "        error += 1\n",
    "        print(\"error on:\", new_path+outfile)\n",
    "        pass\n",
    "    \n",
    "print(\"total errors:\", error)"
   ]
  },
  {
   "cell_type": "code",
   "execution_count": 6,
   "id": "4c49605c-fc72-4807-857c-a6b60e565e13",
   "metadata": {},
   "outputs": [
    {
     "ename": "error",
     "evalue": "OpenCV(4.5.3) C:\\Users\\runneradmin\\AppData\\Local\\Temp\\pip-req-build-q3d_8t8e\\opencv\\modules\\imgcodecs\\src\\loadsave.cpp:803: error: (-215:Assertion failed) !_img.empty() in function 'cv::imwrite'\n",
     "output_type": "error",
     "traceback": [
      "\u001b[1;31m---------------------------------------------------------------------------\u001b[0m",
      "\u001b[1;31merror\u001b[0m                                     Traceback (most recent call last)",
      "\u001b[1;32m~\\AppData\\Local\\Temp/ipykernel_17712/1920678659.py\u001b[0m in \u001b[0;36m<module>\u001b[1;34m\u001b[0m\n\u001b[0;32m      1\u001b[0m \u001b[0mread\u001b[0m \u001b[1;33m=\u001b[0m \u001b[0mcv2\u001b[0m\u001b[1;33m.\u001b[0m\u001b[0mimread\u001b[0m\u001b[1;33m(\u001b[0m\u001b[0mbase_path\u001b[0m \u001b[1;33m+\u001b[0m \u001b[1;34m\"20191208_3T3_GFPKank2TBSRIAM_K210E_3T3teton_mRb2Pax_20ng_ml_14_w1MCherry_s1_t1.TIF\"\u001b[0m\u001b[1;33m)\u001b[0m\u001b[1;33m\u001b[0m\u001b[1;33m\u001b[0m\u001b[0m\n\u001b[1;32m----> 2\u001b[1;33m \u001b[0mcv2\u001b[0m\u001b[1;33m.\u001b[0m\u001b[0mimwrite\u001b[0m\u001b[1;33m(\u001b[0m\u001b[0mnew_path\u001b[0m\u001b[1;33m+\u001b[0m\u001b[1;34m\"20191208_3T3_GFPKank2TBSRIAM_K210E_3T3teton_mRb2Pax_20ng_ml_14_w1MCherry_s1_t1.jpg\"\u001b[0m\u001b[1;33m,\u001b[0m\u001b[0mread\u001b[0m\u001b[1;33m,\u001b[0m\u001b[1;33m[\u001b[0m\u001b[0mint\u001b[0m\u001b[1;33m(\u001b[0m\u001b[0mcv2\u001b[0m\u001b[1;33m.\u001b[0m\u001b[0mIMWRITE_JPEG_QUALITY\u001b[0m\u001b[1;33m)\u001b[0m\u001b[1;33m,\u001b[0m \u001b[1;36m200\u001b[0m\u001b[1;33m]\u001b[0m\u001b[1;33m)\u001b[0m\u001b[1;33m\u001b[0m\u001b[1;33m\u001b[0m\u001b[0m\n\u001b[0m",
      "\u001b[1;31merror\u001b[0m: OpenCV(4.5.3) C:\\Users\\runneradmin\\AppData\\Local\\Temp\\pip-req-build-q3d_8t8e\\opencv\\modules\\imgcodecs\\src\\loadsave.cpp:803: error: (-215:Assertion failed) !_img.empty() in function 'cv::imwrite'\n"
     ]
    }
   ],
   "source": [
    "read = cv2.imread(base_path + \"20191208_3T3_GFPKank2TBSRIAM_K210E_3T3teton_mRb2Pax_20ng_ml_14_w1MCherry_s1_t1.TIF\")\n",
    "cv2.imwrite(new_path+\"20191208_3T3_GFPKank2TBSRIAM_K210E_3T3teton_mRb2Pax_20ng_ml_14_w1MCherry_s1_t1.jpg\",read,[int(cv2.IMWRITE_JPEG_QUALITY), 200])"
   ]
  },
  {
   "cell_type": "code",
   "execution_count": null,
   "id": "791824b1-624c-4801-93b1-c730eddbdb8c",
   "metadata": {},
   "outputs": [],
   "source": []
  }
 ],
 "metadata": {
  "kernelspec": {
   "display_name": "Python 3 (ipykernel)",
   "language": "python",
   "name": "python3"
  },
  "language_info": {
   "codemirror_mode": {
    "name": "ipython",
    "version": 3
   },
   "file_extension": ".py",
   "mimetype": "text/x-python",
   "name": "python",
   "nbconvert_exporter": "python",
   "pygments_lexer": "ipython3",
   "version": "3.9.7"
  }
 },
 "nbformat": 4,
 "nbformat_minor": 5
}
